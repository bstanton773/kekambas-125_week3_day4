{
 "cells": [
  {
   "cell_type": "code",
   "execution_count": 40,
   "id": "7a1163f1",
   "metadata": {},
   "outputs": [],
   "source": [
    "class User:\n",
    "    id_counter = 1\n",
    "    \n",
    "    def __init__(self, username, password):\n",
    "        self.username = username\n",
    "        self.password = hash(password)\n",
    "        self.id = User.id_counter\n",
    "        User.id_counter += 1\n",
    "\n",
    "    def __str__(self):\n",
    "        return self.username\n",
    "    \n",
    "    def __repr__(self):\n",
    "        return f\"<User {self.id}|{self.username}>\"\n",
    "    \n",
    "    def check_password(self, password_attempt):\n",
    "        return self.password == hash(password_attempt)"
   ]
  },
  {
   "cell_type": "code",
   "execution_count": 41,
   "id": "428a63fc",
   "metadata": {},
   "outputs": [
    {
     "name": "stdout",
     "output_type": "stream",
     "text": [
      "brians\n"
     ]
    },
    {
     "data": {
      "text/plain": [
       "<User 1|brians>"
      ]
     },
     "execution_count": 41,
     "metadata": {},
     "output_type": "execute_result"
    }
   ],
   "source": [
    "u1 = User('brians', 'abc123')\n",
    "print(u1)\n",
    "u1"
   ]
  },
  {
   "cell_type": "code",
   "execution_count": 42,
   "id": "00062451",
   "metadata": {},
   "outputs": [
    {
     "name": "stdout",
     "output_type": "stream",
     "text": [
      "jumpman23\n"
     ]
    },
    {
     "data": {
      "text/plain": [
       "<User 2|jumpman23>"
      ]
     },
     "execution_count": 42,
     "metadata": {},
     "output_type": "execute_result"
    }
   ],
   "source": [
    "u2 = User('jumpman23', 'goat')\n",
    "print(u2)\n",
    "u2"
   ]
  },
  {
   "cell_type": "code",
   "execution_count": 43,
   "id": "09a0dd94",
   "metadata": {},
   "outputs": [
    {
     "name": "stdout",
     "output_type": "stream",
     "text": [
      "2120594314818909655\n",
      "7769588700463257368\n"
     ]
    }
   ],
   "source": [
    "print(u1.password)\n",
    "print(u2.password)"
   ]
  },
  {
   "cell_type": "code",
   "execution_count": 44,
   "id": "e554fb1f",
   "metadata": {
    "scrolled": true
   },
   "outputs": [
    {
     "name": "stdout",
     "output_type": "stream",
     "text": [
      "[<User 1|brians>, <User 2|jumpman23>]\n"
     ]
    }
   ],
   "source": [
    "users = [u1, u2]\n",
    "\n",
    "print(users)"
   ]
  },
  {
   "cell_type": "code",
   "execution_count": 45,
   "id": "611f6f0d",
   "metadata": {},
   "outputs": [],
   "source": [
    "user_username = 'brians'"
   ]
  },
  {
   "cell_type": "code",
   "execution_count": 46,
   "id": "4c7d2e38",
   "metadata": {},
   "outputs": [
    {
     "name": "stdout",
     "output_type": "stream",
     "text": [
      "FOUND\n"
     ]
    }
   ],
   "source": [
    "for u in users:\n",
    "    if u.username == user_username:\n",
    "        print('FOUND')"
   ]
  },
  {
   "cell_type": "code",
   "execution_count": 47,
   "id": "5600119c",
   "metadata": {},
   "outputs": [
    {
     "name": "stdout",
     "output_type": "stream",
     "text": [
      "Enter a username: brians\n",
      "Find a new name\n"
     ]
    }
   ],
   "source": [
    "user_username = input('Enter a username: ')\n",
    "\n",
    "if user_username in [u.username for u in users]:\n",
    "    print('Find a new name')\n",
    "else:\n",
    "    print('We can create')"
   ]
  },
  {
   "cell_type": "code",
   "execution_count": 57,
   "id": "fd170244",
   "metadata": {},
   "outputs": [
    {
     "name": "stdout",
     "output_type": "stream",
     "text": [
      "What is your username? brians\n",
      "What is your password? abc123\n",
      "brians has been logged in\n",
      "No user with that username/password.\n"
     ]
    }
   ],
   "source": [
    "username_attempt = input('What is your username? ')\n",
    "password_attempt = input('What is your password? ')\n",
    "\n",
    "# Loop through all of the users\n",
    "for user in users:\n",
    "    # Check to see if the user has that username and password\n",
    "#     print(user.password, hash(password_attempt))\n",
    "    if user.username == username_attempt and user.check_password(password_attempt):\n",
    "        print(f\"{user} has been logged in\")\n",
    "        break\n",
    "else:\n",
    "    print('No user with that username/password.')"
   ]
  },
  {
   "cell_type": "code",
   "execution_count": 60,
   "id": "afa6b684",
   "metadata": {},
   "outputs": [
    {
     "data": {
      "text/plain": [
       "[<User 1|brians>, <User 2|jumpman23>]"
      ]
     },
     "execution_count": 60,
     "metadata": {},
     "output_type": "execute_result"
    }
   ],
   "source": [
    "class Blog:\n",
    "    def __init__(self):\n",
    "        self.users = []\n",
    "        self.current_user = None\n",
    "        \n",
    "        \n",
    "my_blog = Blog()\n",
    "\n",
    "my_blog.users.append(u1)\n",
    "my_blog.users.append(u2)\n",
    "\n",
    "\n",
    "my_blog.users"
   ]
  },
  {
   "cell_type": "code",
   "execution_count": 62,
   "id": "63fa093a",
   "metadata": {},
   "outputs": [
    {
     "name": "stdout",
     "output_type": "stream",
     "text": [
      "<class '__main__.User'> brians\n",
      "<class '__main__.User'> jumpman23\n"
     ]
    }
   ],
   "source": [
    "for user in my_blog.users:\n",
    "    print(type(user), user.username)"
   ]
  },
  {
   "cell_type": "code",
   "execution_count": null,
   "id": "a9348084",
   "metadata": {},
   "outputs": [],
   "source": []
  },
  {
   "cell_type": "code",
   "execution_count": null,
   "id": "2ee31b99",
   "metadata": {},
   "outputs": [],
   "source": []
  },
  {
   "cell_type": "code",
   "execution_count": 71,
   "id": "f01c41d6",
   "metadata": {},
   "outputs": [],
   "source": [
    "class Post:\n",
    "    id_counter = 1\n",
    "    \n",
    "    def __init__(self, title, body, author):\n",
    "        \"\"\"\n",
    "        title: str\n",
    "        body: str\n",
    "        author: User\n",
    "        \"\"\"\n",
    "        self.title = title\n",
    "        self.body = body\n",
    "        self.author = author\n",
    "        self.id = Post.id_counter\n",
    "        Post.id_counter += 1\n",
    "        \n",
    "    def __repr__(self):\n",
    "        return f\"<Post {self.id}|{self.title}>\"\n",
    "    \n",
    "    def __str__(self):\n",
    "        return f\"\"\"\n",
    "        {self.id} - {self.title}\n",
    "        By: {self.author}\n",
    "        {self.body}\n",
    "        \"\"\"\n",
    "    \n",
    "    \n"
   ]
  },
  {
   "cell_type": "code",
   "execution_count": 72,
   "id": "b7269605",
   "metadata": {},
   "outputs": [
    {
     "name": "stdout",
     "output_type": "stream",
     "text": [
      "\n",
      "        1 - First Post\n",
      "        By: brians\n",
      "        This is my first post\n",
      "        \n"
     ]
    },
    {
     "data": {
      "text/plain": [
       "<Post 1|First Post>"
      ]
     },
     "execution_count": 72,
     "metadata": {},
     "output_type": "execute_result"
    }
   ],
   "source": [
    "p1 = Post('First Post', 'This is my first post', u1)\n",
    "print(p1)\n",
    "p1"
   ]
  },
  {
   "cell_type": "code",
   "execution_count": 67,
   "id": "faf7758c",
   "metadata": {},
   "outputs": [
    {
     "name": "stdout",
     "output_type": "stream",
     "text": [
      "brians\n"
     ]
    }
   ],
   "source": [
    "print(p1.author)"
   ]
  },
  {
   "cell_type": "code",
   "execution_count": 73,
   "id": "70db4fe3",
   "metadata": {},
   "outputs": [
    {
     "name": "stdout",
     "output_type": "stream",
     "text": [
      "\n",
      "        2 - Championships\n",
      "        By: jumpman23\n",
      "        I have 6 NBA Finals Championships.\n",
      "        \n"
     ]
    }
   ],
   "source": [
    "p2 = Post('Championships', 'I have 6 NBA Finals Championships.', u2)\n",
    "print(p2)"
   ]
  },
  {
   "cell_type": "code",
   "execution_count": 109,
   "id": "999e28d5",
   "metadata": {},
   "outputs": [
    {
     "name": "stdout",
     "output_type": "stream",
     "text": [
      "[<User 15|brians>, <User 16|jfields>]\n",
      "[<Post 9|Thursday>, <Post 10|Super Bowl>]\n"
     ]
    }
   ],
   "source": [
    "class Blog:\n",
    "    def __init__(self):\n",
    "        self.users = []\n",
    "        self.posts = []\n",
    "        self.current_user = None\n",
    "        \n",
    "    def view_posts(self):\n",
    "        if self.posts:\n",
    "            for post in self.posts:\n",
    "                print(post)\n",
    "        else:\n",
    "            print('There are currently no posts for this blog :(')\n",
    "        \n",
    "        \n",
    "my_blog = Blog()\n",
    "\n",
    "u1 = User('brians', 'abc123')\n",
    "my_blog.users.append(u1)\n",
    "\n",
    "u2 = User('jfields', 'bears')\n",
    "my_blog.users.append(u2)\n",
    "\n",
    "p1 = Post('Thursday', 'Happy Thursday!!!!', u1)\n",
    "my_blog.posts.append(p1)\n",
    "\n",
    "p2 = Post('Super Bowl', 'We are going all the way', u2)\n",
    "my_blog.posts.append(p2)\n",
    "\n",
    "\n",
    "\n",
    "print(my_blog.users)\n",
    "print(my_blog.posts)"
   ]
  },
  {
   "cell_type": "code",
   "execution_count": 110,
   "id": "15a5bcff",
   "metadata": {},
   "outputs": [
    {
     "name": "stdout",
     "output_type": "stream",
     "text": [
      "\n",
      "        9 - Thursday\n",
      "        By: brians\n",
      "        Happy Thursday!!!!\n",
      "        \n",
      "\n",
      "        10 - Super Bowl\n",
      "        By: jfields\n",
      "        We are going all the way\n",
      "        \n"
     ]
    }
   ],
   "source": [
    "my_blog.view_posts()"
   ]
  },
  {
   "cell_type": "code",
   "execution_count": null,
   "id": "4503b9f3",
   "metadata": {},
   "outputs": [],
   "source": []
  }
 ],
 "metadata": {
  "kernelspec": {
   "display_name": "Python 3 (ipykernel)",
   "language": "python",
   "name": "python3"
  },
  "language_info": {
   "codemirror_mode": {
    "name": "ipython",
    "version": 3
   },
   "file_extension": ".py",
   "mimetype": "text/x-python",
   "name": "python",
   "nbconvert_exporter": "python",
   "pygments_lexer": "ipython3",
   "version": "3.10.9"
  }
 },
 "nbformat": 4,
 "nbformat_minor": 5
}
