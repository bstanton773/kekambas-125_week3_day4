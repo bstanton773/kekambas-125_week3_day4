{
 "cells": [
  {
   "cell_type": "code",
   "execution_count": 1,
   "id": "7a1163f1",
   "metadata": {},
   "outputs": [],
   "source": [
    "class User:\n",
    "    id_counter = 1\n",
    "    \n",
    "    def __init__(self, username, password):\n",
    "        self.username = username\n",
    "        self.password = hash(password)\n",
    "        self.id = User.id_counter\n",
    "        User.id_counter += 1\n",
    "\n",
    "    def __str__(self):\n",
    "        return self.username\n",
    "    \n",
    "    def __repr__(self):\n",
    "        return f\"<User {self.id}|{self.username}>\""
   ]
  },
  {
   "cell_type": "code",
   "execution_count": 2,
   "id": "4178af36",
   "metadata": {},
   "outputs": [
    {
     "name": "stdout",
     "output_type": "stream",
     "text": [
      "brians\n"
     ]
    },
    {
     "data": {
      "text/plain": [
       "<User 1|brians>"
      ]
     },
     "execution_count": 2,
     "metadata": {},
     "output_type": "execute_result"
    }
   ],
   "source": [
    "u1 = User('brians', 'abc123')\n",
    "print(u1)\n",
    "u1"
   ]
  },
  {
   "cell_type": "code",
   "execution_count": 3,
   "id": "2d5efd2e",
   "metadata": {},
   "outputs": [
    {
     "name": "stdout",
     "output_type": "stream",
     "text": [
      "jumpman23\n"
     ]
    },
    {
     "data": {
      "text/plain": [
       "<User 2|jumpman23>"
      ]
     },
     "execution_count": 3,
     "metadata": {},
     "output_type": "execute_result"
    }
   ],
   "source": [
    "u2 = User('jumpman23', 'goat')\n",
    "print(u2)\n",
    "u2"
   ]
  },
  {
   "cell_type": "code",
   "execution_count": 4,
   "id": "02cc69fd",
   "metadata": {},
   "outputs": [
    {
     "name": "stdout",
     "output_type": "stream",
     "text": [
      "2120594314818909655\n",
      "7769588700463257368\n"
     ]
    }
   ],
   "source": [
    "print(u1.password)\n",
    "print(u2.password)"
   ]
  },
  {
   "cell_type": "code",
   "execution_count": 5,
   "id": "dbeaec49",
   "metadata": {
    "scrolled": true
   },
   "outputs": [
    {
     "name": "stdout",
     "output_type": "stream",
     "text": [
      "[<User 1|brians>, <User 2|jumpman23>]\n"
     ]
    }
   ],
   "source": [
    "users = [u1, u2]\n",
    "\n",
    "print(users)"
   ]
  },
  {
   "cell_type": "code",
   "execution_count": 6,
   "id": "2e9a1869",
   "metadata": {},
   "outputs": [],
   "source": [
    "user_username = 'brians'"
   ]
  },
  {
   "cell_type": "code",
   "execution_count": 9,
   "id": "eec8b6d0",
   "metadata": {},
   "outputs": [
    {
     "name": "stdout",
     "output_type": "stream",
     "text": [
      "FOUND\n"
     ]
    }
   ],
   "source": [
    "for u in users:\n",
    "    if u.username == user_username:\n",
    "        print('FOUND')"
   ]
  },
  {
   "cell_type": "code",
   "execution_count": 10,
   "id": "fb8107fe",
   "metadata": {},
   "outputs": [
    {
     "data": {
      "text/plain": [
       "['brians', 'jumpman23']"
      ]
     },
     "execution_count": 10,
     "metadata": {},
     "output_type": "execute_result"
    }
   ],
   "source": [
    "[u.username for u in users]"
   ]
  },
  {
   "cell_type": "code",
   "execution_count": null,
   "id": "cf8748e7",
   "metadata": {},
   "outputs": [],
   "source": []
  }
 ],
 "metadata": {
  "kernelspec": {
   "display_name": "Python 3 (ipykernel)",
   "language": "python",
   "name": "python3"
  },
  "language_info": {
   "codemirror_mode": {
    "name": "ipython",
    "version": 3
   },
   "file_extension": ".py",
   "mimetype": "text/x-python",
   "name": "python",
   "nbconvert_exporter": "python",
   "pygments_lexer": "ipython3",
   "version": "3.10.9"
  }
 },
 "nbformat": 4,
 "nbformat_minor": 5
}
